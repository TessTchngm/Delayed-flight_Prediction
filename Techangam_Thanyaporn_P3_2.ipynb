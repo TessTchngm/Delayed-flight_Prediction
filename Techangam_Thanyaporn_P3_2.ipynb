{
 "cells": [
  {
   "cell_type": "markdown",
   "id": "a5c49222",
   "metadata": {},
   "source": [
    "# Table of Content: <a class=\"anchor\" id=\"table-of-content\"></a>\n",
    "* [1. Problem Background and Motivation](#problem-background)\n",
    "* [2. Defining goals](#defining-goals)\n",
    "* [3. Libraries and Custom Functions](#import-packages)\n",
    "* [4. Data Exploration/Prep](#data-prep)\n",
    "* [5. Machine Learning Model](#ml-model)\n",
    "* [6. Deployment of Model](#model-deployment)"
   ]
  },
  {
   "cell_type": "markdown",
   "id": "47693378",
   "metadata": {},
   "source": [
    "# 1. Problem Background and Motivation <a class=\"anchor\" id=\"problem-background\"></a>\n",
    "\n",
    "   One of the most popular transportations that people always use to travel from place to place is an airplane. People travel by it whenever they want to go across state or country. Airplane helps reduce time compared to other transportation such as car or boat. Therefore, everyone book the flight by expecting that they can get to their destination as fast as they want to be. However, the unexpected situation where the flight is delayed can happen from time to time. This such of problem can affect a massive drawbacks. The delays can impact airline operations, resulting in increased block times on routes and, in general, higher carrier costs and airfares. Moreover, flight delays on a route can also, reduce passenger demand and raise airfares, producing significant decreases in both consumer and producer welfare. Therefore, if we are be able to predict the tendency of delayed flight, the airline can use this information to detect and avoid this unpleasant issue. To be able to do that can help save cost and maintain customer royalty to the airline.\n",
    "#### References :\n",
    "https://www.sciencedirect.com/science/article/abs/pii/S1366554511001347#:~:text=The%20authors%20found%20that%20flight%20delays%20have%20a,decreased%20airline%20profits%20and%20lower%20carrier%20market%20share.\n",
    "\n",
    "<img src='https://th.bing.com/th/id/R.49854eb13e8e8e2c492b262c63abca96?rik=YI8qel%2fglFw30A&pid=ImgRaw&r=0'/>\n",
    "\n",
    "#### Questions to think about after doing the research about cars and before doing all the rest regarding predictive model that has to be answered first:\n",
    "\n",
    "- How many data (in each relevant feature) should I gather? How many of them considering enough?\n",
    "- How long it should take to conduct a model? Timeframe?\n",
    "- Where can I find relevant raw data and collect them to perform a model from ML? How reliable they are? \n",
    "- If self-gathering data is required, should I collect them through interviewing with airlines? How many airlines should I reach out for interview to collect data?  What are criterias I need to use for choosing the right airlines to interview and collect data? \n",
    "- Should I hire outsources to lessen the time? if so, What are the costs if there is no trace in the internet? How can I contact those company? How can I make them agree to answer these information? \n",
    "\n",
    "[Go to Top](#table-of-content)"
   ]
  },
  {
   "cell_type": "markdown",
   "id": "4b977540",
   "metadata": {},
   "source": [
    "# 2. Defining goals <a class=\"anchor\" id=\"defining-goals\"></a>\n",
    "\n",
    ">**- Who are the key stakeholders?**<br>\n",
    "> Airlines which interest in optimizing their profit and preserving their royal customers by avoiding cost that comes from unexpected accident which includes delayed flight. \n",
    "\n",
    ">**- who would be interested in this analysis?**<br>\n",
    "> If I am a data analyst consultant working for the airline industry, I think Airline partners and airports will definitely be the one that would be interested in this analysis as they will have to bear the cost happened from delayed flight.\n",
    " \n",
    "<span style=\"color:red\"><b>**MAKE SURE** to check limitations or challenges before working on buding model such as laws, data ownership, the availability of data and so on.</b></span>\n",
    "\n",
    "[Go to Top](#table-of-content)"
   ]
  },
  {
   "cell_type": "markdown",
   "id": "0c26da20",
   "metadata": {},
   "source": [
    "### Future references use:\n",
    "<span style=\"color:orange\"><b>NOTE: Incase my datatable needs to merge or combine to other tables! [Read this link to do so (:](https://jakevdp.github.io/PythonDataScienceHandbook/03.07-merge-and-join.html#:~:text=To%20combine%20this%20information%20into%20a%20single%20DataFrame%2C,automatically%20joins%20using%20this%20column%20as%20a%20key.)</b></span>\n",
    "\n",
    "#### First things to do when decided to build a model!!!\n",
    "\n",
    " **1. Import pandas:** [What is pandas and how to use it](https://www.w3schools.com/python/pandas/pandas_intro.asp)\n",
    " \n",
    " **- remember to shorten the words by 'as' to help make things easier!**\n",
    " \n",
    " **2. Use SKLearn:** [What is SKLearn?](https://scikit-learn.org/stable/getting_started.html)\n",
    " \n",
    " **3. Decide which Linear model to use:** [LogisticRegression and when to use it](https://realpython.com/linear-regression-in-python/#what-is-regression) **<span style=\"color:red\"><b>(Frequently use! to predict target variable(y) including this heart disease prediction model!!!)</b></span>**\n",
    "| [OLS and when to use it ](https://scikit-learn.org/stable/modules/linear_model.html#ordinary-least-squares)| [other model functions and when to use them](https://scikit-learn.org/stable/modules/linear_model.html#)\n",
    "\n",
    " **4. Import numpy:** [What is numpy and how to use it ](https://www.educba.com/what-is-numpy/)\n",
    " \n",
    " **5. Import math:** [Which functions are available](https://www.w3schools.com/python/python_math.asp) \n",
    " \n",
    " **6. Import seaborn:** [What visualizations can we utilize in seaborn](https://www.analyticsvidhya.com/blog/2019/09/comprehensive-data-visualization-guide-seaborn-python/#:~:text=Seaborn%20is%20an%20amazing%20Python%20visualization%20library%20built,or%20trends%20that%20might%20not%20be%20obvious%20initially.)\n",
    " \n",
    " **7. Import matplotlib.pyplot:** [matplotlip cheat sheet](https://matplotlib.org/cheatsheets/_images/cheatsheets-1.png)\n",
    " \n",
    " **8. Plotly:** [What is plotly and what can plotly do](https://plotly.com/python/plotly-express/)\n",
    " \n",
    " **9: statsmodels:** [What is statsmodels](https://www.statsmodels.org/stable/)"
   ]
  },
  {
   "cell_type": "markdown",
   "id": "c3ecc861",
   "metadata": {},
   "source": [
    "# 3. Libraries & Custom Functions <a class=\"anchor\" id=\"import-packages\"></a>\n",
    "* [Go to Top](#table-of-content)"
   ]
  },
  {
   "cell_type": "code",
   "execution_count": 15,
   "id": "01d5a141",
   "metadata": {},
   "outputs": [],
   "source": [
    "import pandas as pd                                                    # Doing this to import \"pandas\" which is one of the \n",
    "                                                                       # python packages and shorten it as \"pd\" word to read \n",
    "                                                                       # + manage + analyze my data.\n",
    "pd.set_option('display.max_columns', None)                             # helping to see everything!\n",
    "pd.options.display.float_format = '{:.2f}'.format                      # for removing the scientific sign!\n",
    "import numpy as np                                                     # Importing this to help generating numerical value.\n",
    "\n",
    "# Graphics\n",
    "import seaborn as sns                                                  # Importing all these python visualizations to help \n",
    "                                                                       # with the interpretation! \n",
    "import matplotlib.pyplot as plt\n",
    "import plotly.graph_objects as go\n",
    "\n",
    "# ML\n",
    "from sklearn.model_selection import train_test_split                   # \"SKLEARN\" is a Machine learning library in python.  \n",
    "                                                                       # It helps to create a model we are interesting in \n",
    "                                                                       # doing predictive data analysis.\n",
    "                                                                       # Extracting train_test_split to help ML model.\n",
    "from sklearn.linear_model import LogisticRegression                    # Extracting Logistic Regression model function from \n",
    "                                                                       # linear model which is a class from the sklearn\n",
    "                                                                       # library to build a desire model used to estimate\n",
    "                                                                       # discrete values (binary values like 0/1, yes/no, \n",
    "                                                                       # true/false)\n",
    "from sklearn.neighbors import NearestNeighbors, KNeighborsClassifier   # Extracting KNN algorithm uses proximity to make \n",
    "                                                                       # classifications or predictions about the grouping \n",
    "                                                                       # of an individual data point.\n",
    "from sklearn import metrics                                            # Extractin metrics from sklearn to evaluate your \n",
    "                                                                       # machine learning algorithms.\n",
    "from sklearn.metrics import mean_absolute_error, mean_squared_error    # Extracting MSE from metrics in sklearn to check \n",
    "                                                                       # which threshold to pick by having low value of MSE\n",
    "\n",
    "import pickle                                                          # \"Pickle\" is a library to help keeping an object in Python as  \n",
    "                                                                       # a file form by changing it into Byte Stream and convert back to \n",
    "                                                                       # the same object when wanting to use it again (Object Serialisation).\n",
    "        \n",
    "                                                                       # This helps making the data less complicated to use.\n",
    "# Custom function below is used to display performance measures\n",
    "# Required inputs are the model name and the two test data objects (X,y)\n",
    "def class_perf_measures(model,X_test,y_test):\n",
    "    # Create empty lists to store metric values created within loop\n",
    "    TP = []\n",
    "    TN = []\n",
    "    FP = []\n",
    "    FN = []\n",
    "    recall = []\n",
    "    precision = []\n",
    "    F1 = []\n",
    "    Accuracy = []\n",
    "    MSE = []\n",
    "    \n",
    "    # Create list of probability threshold values to loop over\n",
    "    threshold = np.arange(0,1.1,0.1).tolist()\n",
    "\n",
    "    # Start loop\n",
    "    for i in threshold:\n",
    "\n",
    "        # Create class assignments given threshold value\n",
    "        y_test_pred_class = (model.predict_proba(X_test)[:,1] >= i).astype(int)\n",
    "\n",
    "        # Append lists with metric values\n",
    "        TP.append(metrics.confusion_matrix(y_test, y_test_pred_class)[1,1])\n",
    "        TN.append(metrics.confusion_matrix(y_test, y_test_pred_class)[0,0])\n",
    "        FP.append(metrics.confusion_matrix(y_test, y_test_pred_class)[0,1])\n",
    "        FN.append(metrics.confusion_matrix(y_test, y_test_pred_class)[1,0])\n",
    "        recall.append(metrics.recall_score(y_test, y_test_pred_class).round(3))\n",
    "        precision.append(metrics.precision_score(y_test, y_test_pred_class).round(3))\n",
    "        F1.append(metrics.f1_score(y_test, y_test_pred_class).round(2))\n",
    "        Accuracy.append(metrics.accuracy_score(y_test, y_test_pred_class).round(2))\n",
    "        MSE.append(mean_squared_error(y_test, y_test_pred_class).round(2))\n",
    "\n",
    "    # Create dataframe\n",
    "    result = pd.DataFrame({\"threshold\":threshold,\n",
    "                           \"TP\":TP,\n",
    "                           \"TN\":TN,\n",
    "                           \"FP\":FP,\n",
    "                           \"FN\":FN,\n",
    "                           \"Precision\":precision,\n",
    "                           \"Recall\":recall,\n",
    "                           \"Accuracy\": Accuracy,\n",
    "                           \"MSE\": MSE\n",
    "                          })\n",
    "\n",
    "    # Let's look at our dataframe\n",
    "    return result"
   ]
  },
  {
   "cell_type": "code",
   "execution_count": 16,
   "id": "26a03155",
   "metadata": {},
   "outputs": [],
   "source": [
    "# to avoid warning\n",
    "import warnings\n",
    "warnings.filterwarnings('ignore')"
   ]
  },
  {
   "cell_type": "markdown",
   "id": "4a9eb31b",
   "metadata": {},
   "source": [
    "# 4. Data Exploration/Prep <a class=\"anchor\" id=\"data-prep\"></a>\n",
    "* [Go to Top of Notebook](#table-of-content)"
   ]
  },
  {
   "cell_type": "markdown",
   "id": "32f2a305",
   "metadata": {},
   "source": [
    "- [X] [Initial Evaluation](#initial-evaluation)\n",
    "- [X] [Initial Cleanup - dupes, missing values](#missing-values)\n",
    "- [X] [Outlier Detection & Treatment](#outliers)\n",
    "- [X] [Feature Selection](#feature-selection)\n",
    "- [X] [Data Partitioning](#data-split)\n",
    "- [X] [Data Normalization](#normalization)"
   ]
  },
  {
   "cell_type": "markdown",
   "id": "8333eb7b",
   "metadata": {},
   "source": [
    "> **Initial Evaluation** <a class=\"anchor\" id=\"initial-evaluation\"></a>"
   ]
  },
  {
   "cell_type": "code",
   "execution_count": 17,
   "id": "15ed891b",
   "metadata": {
    "scrolled": true
   },
   "outputs": [
    {
     "data": {
      "text/html": [
       "<div>\n",
       "<style scoped>\n",
       "    .dataframe tbody tr th:only-of-type {\n",
       "        vertical-align: middle;\n",
       "    }\n",
       "\n",
       "    .dataframe tbody tr th {\n",
       "        vertical-align: top;\n",
       "    }\n",
       "\n",
       "    .dataframe thead th {\n",
       "        text-align: right;\n",
       "    }\n",
       "</style>\n",
       "<table border=\"1\" class=\"dataframe\">\n",
       "  <thead>\n",
       "    <tr style=\"text-align: right;\">\n",
       "      <th></th>\n",
       "      <th>status_delayed</th>\n",
       "      <th>sch_dep_time</th>\n",
       "      <th>carrier_delta</th>\n",
       "      <th>carrier_us</th>\n",
       "      <th>carrier_envoy</th>\n",
       "      <th>carrier_continental</th>\n",
       "      <th>carrier_discovery</th>\n",
       "      <th>carrier_other</th>\n",
       "      <th>dest_jfk</th>\n",
       "      <th>dest_ewr</th>\n",
       "      <th>dest_lga</th>\n",
       "      <th>distance</th>\n",
       "      <th>origin_dca</th>\n",
       "      <th>origin_iad</th>\n",
       "      <th>origin_bwi</th>\n",
       "      <th>bad_weather</th>\n",
       "      <th>Monday</th>\n",
       "      <th>Tuesday</th>\n",
       "      <th>Wednesday</th>\n",
       "      <th>Thursday</th>\n",
       "      <th>Friday</th>\n",
       "      <th>Saturday</th>\n",
       "      <th>Sunday</th>\n",
       "    </tr>\n",
       "  </thead>\n",
       "  <tbody>\n",
       "    <tr>\n",
       "      <th>2196</th>\n",
       "      <td>0</td>\n",
       "      <td>21.33</td>\n",
       "      <td>0</td>\n",
       "      <td>0</td>\n",
       "      <td>0</td>\n",
       "      <td>0</td>\n",
       "      <td>1</td>\n",
       "      <td>0</td>\n",
       "      <td>0</td>\n",
       "      <td>0</td>\n",
       "      <td>1</td>\n",
       "      <td>229</td>\n",
       "      <td>0</td>\n",
       "      <td>1</td>\n",
       "      <td>0</td>\n",
       "      <td>0</td>\n",
       "      <td>0</td>\n",
       "      <td>0</td>\n",
       "      <td>0</td>\n",
       "      <td>1</td>\n",
       "      <td>0</td>\n",
       "      <td>0</td>\n",
       "      <td>0</td>\n",
       "    </tr>\n",
       "    <tr>\n",
       "      <th>2197</th>\n",
       "      <td>0</td>\n",
       "      <td>21.33</td>\n",
       "      <td>0</td>\n",
       "      <td>0</td>\n",
       "      <td>0</td>\n",
       "      <td>0</td>\n",
       "      <td>1</td>\n",
       "      <td>0</td>\n",
       "      <td>0</td>\n",
       "      <td>0</td>\n",
       "      <td>1</td>\n",
       "      <td>229</td>\n",
       "      <td>0</td>\n",
       "      <td>1</td>\n",
       "      <td>0</td>\n",
       "      <td>0</td>\n",
       "      <td>0</td>\n",
       "      <td>0</td>\n",
       "      <td>0</td>\n",
       "      <td>0</td>\n",
       "      <td>1</td>\n",
       "      <td>0</td>\n",
       "      <td>0</td>\n",
       "    </tr>\n",
       "    <tr>\n",
       "      <th>2198</th>\n",
       "      <td>0</td>\n",
       "      <td>21.33</td>\n",
       "      <td>0</td>\n",
       "      <td>0</td>\n",
       "      <td>0</td>\n",
       "      <td>0</td>\n",
       "      <td>1</td>\n",
       "      <td>0</td>\n",
       "      <td>0</td>\n",
       "      <td>0</td>\n",
       "      <td>1</td>\n",
       "      <td>229</td>\n",
       "      <td>0</td>\n",
       "      <td>1</td>\n",
       "      <td>0</td>\n",
       "      <td>0</td>\n",
       "      <td>0</td>\n",
       "      <td>0</td>\n",
       "      <td>0</td>\n",
       "      <td>0</td>\n",
       "      <td>0</td>\n",
       "      <td>1</td>\n",
       "      <td>0</td>\n",
       "    </tr>\n",
       "    <tr>\n",
       "      <th>2199</th>\n",
       "      <td>0</td>\n",
       "      <td>21.33</td>\n",
       "      <td>0</td>\n",
       "      <td>0</td>\n",
       "      <td>0</td>\n",
       "      <td>0</td>\n",
       "      <td>1</td>\n",
       "      <td>0</td>\n",
       "      <td>0</td>\n",
       "      <td>0</td>\n",
       "      <td>1</td>\n",
       "      <td>229</td>\n",
       "      <td>0</td>\n",
       "      <td>1</td>\n",
       "      <td>0</td>\n",
       "      <td>0</td>\n",
       "      <td>0</td>\n",
       "      <td>0</td>\n",
       "      <td>0</td>\n",
       "      <td>0</td>\n",
       "      <td>0</td>\n",
       "      <td>0</td>\n",
       "      <td>1</td>\n",
       "    </tr>\n",
       "    <tr>\n",
       "      <th>2200</th>\n",
       "      <td>0</td>\n",
       "      <td>21.33</td>\n",
       "      <td>0</td>\n",
       "      <td>0</td>\n",
       "      <td>0</td>\n",
       "      <td>0</td>\n",
       "      <td>1</td>\n",
       "      <td>0</td>\n",
       "      <td>0</td>\n",
       "      <td>0</td>\n",
       "      <td>1</td>\n",
       "      <td>229</td>\n",
       "      <td>0</td>\n",
       "      <td>1</td>\n",
       "      <td>0</td>\n",
       "      <td>0</td>\n",
       "      <td>1</td>\n",
       "      <td>0</td>\n",
       "      <td>0</td>\n",
       "      <td>0</td>\n",
       "      <td>0</td>\n",
       "      <td>0</td>\n",
       "      <td>0</td>\n",
       "    </tr>\n",
       "  </tbody>\n",
       "</table>\n",
       "</div>"
      ],
      "text/plain": [
       "      status_delayed  sch_dep_time  carrier_delta  carrier_us  carrier_envoy  \\\n",
       "2196               0         21.33              0           0              0   \n",
       "2197               0         21.33              0           0              0   \n",
       "2198               0         21.33              0           0              0   \n",
       "2199               0         21.33              0           0              0   \n",
       "2200               0         21.33              0           0              0   \n",
       "\n",
       "      carrier_continental  carrier_discovery  carrier_other  dest_jfk  \\\n",
       "2196                    0                  1              0         0   \n",
       "2197                    0                  1              0         0   \n",
       "2198                    0                  1              0         0   \n",
       "2199                    0                  1              0         0   \n",
       "2200                    0                  1              0         0   \n",
       "\n",
       "      dest_ewr  dest_lga  distance  origin_dca  origin_iad  origin_bwi  \\\n",
       "2196         0         1       229           0           1           0   \n",
       "2197         0         1       229           0           1           0   \n",
       "2198         0         1       229           0           1           0   \n",
       "2199         0         1       229           0           1           0   \n",
       "2200         0         1       229           0           1           0   \n",
       "\n",
       "      bad_weather  Monday  Tuesday  Wednesday  Thursday  Friday  Saturday  \\\n",
       "2196            0       0        0          0         1       0         0   \n",
       "2197            0       0        0          0         0       1         0   \n",
       "2198            0       0        0          0         0       0         1   \n",
       "2199            0       0        0          0         0       0         0   \n",
       "2200            0       1        0          0         0       0         0   \n",
       "\n",
       "      Sunday  \n",
       "2196       0  \n",
       "2197       0  \n",
       "2198       0  \n",
       "2199       1  \n",
       "2200       0  "
      ]
     },
     "execution_count": 17,
     "metadata": {},
     "output_type": "execute_result"
    }
   ],
   "source": [
    "# Read in data - see what we're dealing with\n",
    "df = pd.read_csv('FlightDelays_Clean.csv')\n",
    "df.tail()"
   ]
  },
  {
   "cell_type": "markdown",
   "id": "6b70ae82",
   "metadata": {},
   "source": [
    "> **Initial Evaluation: Notes on Findings**<br><br>\n",
    ">**<span style=\"color:red\"><b>Observations:**<br>\n",
    ">>- **There are 2201 records. 22 features which consist of 20 categorical variables and 2 numerical variable (not including target variables which is 'status_delayed')**\n",
    ">>-**Target: label (1 if the flight is delayed, 0 if the flight is NOT delayed)**<br><br>\n",
    "\n",
    ">[Go to Data Prep Outline](#data-prep)"
   ]
  },
  {
   "cell_type": "markdown",
   "id": "eca32ee5",
   "metadata": {},
   "source": [
    "> **Initial Cleanup - dupes, missing values** <a class=\"anchor\" id=\"missing-values\"></a>"
   ]
  },
  {
   "cell_type": "markdown",
   "id": "01990d2a",
   "metadata": {},
   "source": [
    "> **Initial Cleanup: Summary of Actions**<br><br>\n",
    "No missing values or dupes\n",
    "\n",
    ">[Go to Data Prep Outline](#data-prep)"
   ]
  },
  {
   "cell_type": "markdown",
   "id": "29efb1c0",
   "metadata": {},
   "source": [
    "> **Outlier Detection & Treatment** <a class=\"anchor\" id=\"outliers\"></a>"
   ]
  },
  {
   "cell_type": "markdown",
   "id": "23a169aa",
   "metadata": {},
   "source": [
    "> **Outlier Detection: Notes/Summary of Actions**<br>\n",
    "<br>\n",
    ">**Note:**<br>\n",
    "For me there is no need to check outliers for the categorical variables. So, I will check for the numerical variable features\n",
    "which are sch_dep_time and distance.\n",
    "\n",
    ">[Go to Data Prep Outline](#data-prep)\n",
    "---"
   ]
  },
  {
   "cell_type": "code",
   "execution_count": 58,
   "id": "e662ed44",
   "metadata": {
    "scrolled": false
   },
   "outputs": [
    {
     "data": {
      "text/plain": [
       "<AxesSubplot:xlabel='sch_dep_time'>"
      ]
     },
     "execution_count": 58,
     "metadata": {},
     "output_type": "execute_result"
    },
    {
     "data": {
      "image/png": "[encoded data removed]",
      "text/plain": [
       "<Figure size 432x288 with 1 Axes>"
      ]
     },
     "metadata": {
      "needs_background": "light"
     },
     "output_type": "display_data"
    }
   ],
   "source": [
    "# Using this instead of histogram to see the outliers clearer \n",
    "sns.boxplot(df['sch_dep_time']) "
   ]
  },
  {
   "cell_type": "markdown",
   "id": "099a8748",
   "metadata": {},
   "source": [
    "### <span style=\"color:red\"><b>NOTE:<br>\n",
    "Seems to me that there is no outliers in this feature. That's great!"
   ]
  },
  {
   "cell_type": "code",
   "execution_count": 59,
   "id": "9cb0147b",
   "metadata": {
    "scrolled": true
   },
   "outputs": [
    {
     "data": {
      "text/plain": [
       "<AxesSubplot:xlabel='distance'>"
      ]
     },
     "execution_count": 59,
     "metadata": {},
     "output_type": "execute_result"
    },
    {
     "data": {
      "image/png": "[encoded data removed]",
      "text/plain": [
       "<Figure size 432x288 with 1 Axes>"
      ]
     },
     "metadata": {
      "needs_background": "light"
     },
     "output_type": "display_data"
    }
   ],
   "source": [
    "# Using this instead of histogram to see the outliers clearer \n",
    "sns.boxplot(df['distance']) "
   ]
  },
  {
   "cell_type": "markdown",
   "id": "40ca0153",
   "metadata": {},
   "source": [
    "### <span style=\"color:red\"><b>NOTE:<br>\n",
    "I found some outliers which is the distance less than 200 and more than 220. However, this is not an issue to focus right now so, I will ignore these outliers just for this problem set."
   ]
  },
  {
   "cell_type": "markdown",
   "id": "20aec97a",
   "metadata": {},
   "source": [
    "> **Feature Selection** <a class=\"anchor\" id=\"feature-selection\"></a>\n",
    "<br>\n",
    "\n",
    ">**To Do:**<br>\n",
    "> 1. Include everything<br>\n",
    "\n",
    "\n",
    ">[Go to Data Prep Outline](#data-prep)"
   ]
  },
  {
   "cell_type": "markdown",
   "id": "237a3254",
   "metadata": {},
   "source": [
    "> **Data Partitioning** <a class=\"anchor\" id=\"data-split\"></a>\n",
    "<br>\n",
    ">To Do:<br>\n",
    ">1. Put all potential predictor variables into new object called 'X'\n",
    ">2. Put target variable in new object called 'y'\n",
    ">3. Partition data into training set and testing set<br>\n",
    "\n",
    ">This is simple for now - may need to add more sampling complexity in future"
   ]
  },
  {
   "cell_type": "code",
   "execution_count": 18,
   "id": "f8c3ac6c",
   "metadata": {},
   "outputs": [],
   "source": [
    "target = ['status_delayed']\n",
    "\n",
    "X = df.drop(target,axis=1)\n",
    "y = df[target]\n",
    "\n",
    "# Split data\n",
    "X_train,X_test,y_train,y_test = train_test_split(X,y, test_size=0.3,random_state=10)"
   ]
  },
  {
   "cell_type": "code",
   "execution_count": 19,
   "id": "5401ad9c",
   "metadata": {},
   "outputs": [
    {
     "data": {
      "text/plain": [
       "status_delayed   0.18\n",
       "dtype: float64"
      ]
     },
     "execution_count": 19,
     "metadata": {},
     "output_type": "execute_result"
    }
   ],
   "source": [
    "y_test.sum()/len(y_test)"
   ]
  },
  {
   "cell_type": "code",
   "execution_count": 20,
   "id": "f1dbb1e4",
   "metadata": {},
   "outputs": [
    {
     "data": {
      "text/plain": [
       "status_delayed   0.20\n",
       "dtype: float64"
      ]
     },
     "execution_count": 20,
     "metadata": {},
     "output_type": "execute_result"
    }
   ],
   "source": [
    "y_train.sum()/len(y_train)"
   ]
  },
  {
   "cell_type": "markdown",
   "id": "755bd5a0",
   "metadata": {},
   "source": [
    "### <span style=\"color:red\"><b>NOTE: <br> \n",
    "**Choose random_state= 10** due to the fact that this data set has too little data and can easily cause some bias once performing any prediction. After randomly picking this number, the y_test ratio is relatively close to y_train ratio compare to other random_state number. Therefore, I pick this random_state number as I assume it causes less bias.   "
   ]
  },
  {
   "cell_type": "markdown",
   "id": "c9e37983",
   "metadata": {},
   "source": [
    ">[Go to Data Prep Outline](#data-prep)\n",
    "---"
   ]
  },
  {
   "cell_type": "markdown",
   "id": "3cb272c5",
   "metadata": {},
   "source": [
    "> **Data Normalization** <a class=\"anchor\" id=\"normalization\"></a>\n",
    "<br><br>\n",
    ">**Note:**<br>\n",
    ">We do this AFTER splitting the data because we only want to use summary stats<br>\n",
    ">from the TRAINING data to normalize BOTH TRAIN and TEST data<br>\n",
    "<br><br>\n",
    ">OPTIONAL - though it is a good idea to get in the habit of doing this when working with the kNN classifier"
   ]
  },
  {
   "cell_type": "code",
   "execution_count": 22,
   "id": "819ca795",
   "metadata": {},
   "outputs": [],
   "source": [
    "# Normalize predictor variables using Z-Scores.\n",
    "# Use means and standard deviations of features as calculated in the TRAINING DATA\n",
    "# New values are centered at 0.  Values reflect the number of standard deviations\n",
    "# each record is above or below the mean.\n",
    "\n",
    "features_means = X_train.mean()\n",
    "features_std = X_train.std()\n",
    "\n",
    "X_train_norm = (X_train - features_means)/features_std\n",
    "X_test_norm = (X_test - features_means)/features_std"
   ]
  },
  {
   "cell_type": "markdown",
   "id": "20dc71bf",
   "metadata": {},
   "source": [
    "# <span style=\"color:red\"><b>NOTE: <br> \n",
    "### I decided to create new name for X_train and X_test as X_train_norm and X_test_norm incase I have to recheck the predicted value with actual data before normalization as the predicted value contain anomoly value. <br>\n",
    "\n",
    ">[Go to Data Prep Outline](#data-prep)\n",
    "---"
   ]
  },
  {
   "cell_type": "markdown",
   "id": "d85c96f2",
   "metadata": {},
   "source": [
    "# 5. Machine Learning <a class=\"anchor\" id=\"ml-model\"></a>\n",
    "\n",
    "- [X] [kNN](#first-model)\n",
    "- [X] [Logistic Model](#second-model)\n",
    "- [ ] [Performance Evaluation](#third-model)\n",
    "\n",
    "\n",
    "* [Go to Top](#table-of-content)"
   ]
  },
  {
   "cell_type": "markdown",
   "id": "a54f5bcc",
   "metadata": {},
   "source": [
    "> **kNN** <a class=\"anchor\" id=\"first-model\"></a>\n",
    "<br>\n",
    ">Instructions:<br>\n",
    ">1. Fit numerous kNN models using different values for k. <br>\n",
    ">2. Choose the \"best\" value for \"k\" based on Accuracy"
   ]
  },
  {
   "cell_type": "code",
   "execution_count": 23,
   "id": "9d122322",
   "metadata": {},
   "outputs": [
    {
     "data": {
      "text/html": [
       "<div>\n",
       "<style scoped>\n",
       "    .dataframe tbody tr th:only-of-type {\n",
       "        vertical-align: middle;\n",
       "    }\n",
       "\n",
       "    .dataframe tbody tr th {\n",
       "        vertical-align: top;\n",
       "    }\n",
       "\n",
       "    .dataframe thead th {\n",
       "        text-align: right;\n",
       "    }\n",
       "</style>\n",
       "<table border=\"1\" class=\"dataframe\">\n",
       "  <thead>\n",
       "    <tr style=\"text-align: right;\">\n",
       "      <th></th>\n",
       "      <th>k</th>\n",
       "      <th>Accuracy</th>\n",
       "    </tr>\n",
       "  </thead>\n",
       "  <tbody>\n",
       "    <tr>\n",
       "      <th>0</th>\n",
       "      <td>1</td>\n",
       "      <td>0.71</td>\n",
       "    </tr>\n",
       "    <tr>\n",
       "      <th>1</th>\n",
       "      <td>3</td>\n",
       "      <td>0.78</td>\n",
       "    </tr>\n",
       "    <tr>\n",
       "      <th>2</th>\n",
       "      <td>5</td>\n",
       "      <td>0.82</td>\n",
       "    </tr>\n",
       "    <tr>\n",
       "      <th>3</th>\n",
       "      <td>7</td>\n",
       "      <td>0.82</td>\n",
       "    </tr>\n",
       "    <tr>\n",
       "      <th>4</th>\n",
       "      <td>9</td>\n",
       "      <td>0.82</td>\n",
       "    </tr>\n",
       "    <tr>\n",
       "      <th>5</th>\n",
       "      <td>11</td>\n",
       "      <td>0.82</td>\n",
       "    </tr>\n",
       "    <tr>\n",
       "      <th>6</th>\n",
       "      <td>13</td>\n",
       "      <td>0.82</td>\n",
       "    </tr>\n",
       "    <tr>\n",
       "      <th>7</th>\n",
       "      <td>15</td>\n",
       "      <td>0.82</td>\n",
       "    </tr>\n",
       "    <tr>\n",
       "      <th>8</th>\n",
       "      <td>17</td>\n",
       "      <td>0.82</td>\n",
       "    </tr>\n",
       "    <tr>\n",
       "      <th>9</th>\n",
       "      <td>19</td>\n",
       "      <td>0.83</td>\n",
       "    </tr>\n",
       "    <tr>\n",
       "      <th>10</th>\n",
       "      <td>21</td>\n",
       "      <td>0.83</td>\n",
       "    </tr>\n",
       "  </tbody>\n",
       "</table>\n",
       "</div>"
      ],
      "text/plain": [
       "     k  Accuracy\n",
       "0    1      0.71\n",
       "1    3      0.78\n",
       "2    5      0.82\n",
       "3    7      0.82\n",
       "4    9      0.82\n",
       "5   11      0.82\n",
       "6   13      0.82\n",
       "7   15      0.82\n",
       "8   17      0.82\n",
       "9   19      0.83\n",
       "10  21      0.83"
      ]
     },
     "execution_count": 23,
     "metadata": {},
     "output_type": "execute_result"
    }
   ],
   "source": [
    "# 1. train a classifier for different values of k\n",
    "results = []\n",
    "for k in [1,3,5,7,9,11,13,15,17,19,21]:\n",
    "    knn = KNeighborsClassifier(n_neighbors=k)\n",
    "    knn.fit(X_train_norm,y_train.values.ravel())\n",
    "    \n",
    "    # Get predicted class\n",
    "    y_pred_class = knn.predict(X_test_norm)\n",
    "    \n",
    "    # Put Accuracy Score in results object\n",
    "    results.append({'k':k,\n",
    "                    'Accuracy':metrics.accuracy_score(y_test,y_pred_class)\n",
    "                   }\n",
    "                  )\n",
    "# Put results from above into a Pandas Dataframe\n",
    "results_df = pd.DataFrame(results)\n",
    "results_df"
   ]
  },
  {
   "cell_type": "markdown",
   "id": "d7951fed",
   "metadata": {},
   "source": [
    ">### <span style=\"color:red\"><b>**Decision:**<br>\n",
    "Based on the results above, I will set my number of neighbors (k) to 5 as this is the lowest value that achieves the highest accuracy value<br>\n",
    "\n",
    " ### <span style=\"color:red\"><b>NOTE: The higher k, the more underfitting issue to arise.<b>\n",
    "\n",
    ">**Re-run kNN using the value selected above:**<br>\n",
    "For this final run of kNN, we will produce a table of performance measures across a range of probability threshold values"
   ]
  },
  {
   "cell_type": "code",
   "execution_count": 24,
   "id": "322a4dac",
   "metadata": {},
   "outputs": [
    {
     "name": "stdout",
     "output_type": "stream",
     "text": [
      "Training data Accuracy: 0.84\n",
      "Testing data Accuracy: 0.82\n"
     ]
    }
   ],
   "source": [
    "knn = KNeighborsClassifier(n_neighbors=5)\n",
    "knn.fit(X_train_norm,y_train.values.ravel())\n",
    "\n",
    "# Let's do a quick check to see if we have to worry about problems of overfitting.\n",
    "# Remember!  Small values for \"k\" in kNN tend to lead to overfitting.\n",
    "# Large value for \"k\" in kNN tend to produce underfit models\n",
    "y_train_pred_class = knn.predict(X_train_norm)\n",
    "y_test_pred_class = knn.predict(X_test_norm)\n",
    "\n",
    "print('Training data Accuracy:', metrics.accuracy_score(y_train,y_train_pred_class).round(2))\n",
    "print('Testing data Accuracy:', metrics.accuracy_score(y_test,y_test_pred_class).round(2))\n"
   ]
  },
  {
   "cell_type": "markdown",
   "id": "621da324",
   "metadata": {},
   "source": [
    "#### NOTE: No over+underfitted problem as both training and testing data have almost the same value ==> Deployable model"
   ]
  },
  {
   "cell_type": "markdown",
   "id": "a6d534b9",
   "metadata": {},
   "source": [
    ">**Logistic Model:**<br>\n",
    ">Let's produce the same table above but this time using a Logistic Model\n"
   ]
  },
  {
   "cell_type": "code",
   "execution_count": 25,
   "id": "0d7c4a85",
   "metadata": {},
   "outputs": [
    {
     "name": "stdout",
     "output_type": "stream",
     "text": [
      "Training data Accuracy: 0.82\n",
      "Testing data Accuracy: 0.83\n"
     ]
    }
   ],
   "source": [
    "lr_model = LogisticRegression()\n",
    "lr_model.fit(X_train_norm,y_train.values.ravel())\n",
    "\n",
    "# Let's do a quick check to see if we have to worry about problems of overfitting.\n",
    "y_train_pred_class = lr_model.predict(X_train_norm)\n",
    "y_test_pred_class = lr_model.predict(X_test_norm)\n",
    "\n",
    "print('Training data Accuracy:', metrics.accuracy_score(y_train,y_train_pred_class).round(2))\n",
    "print('Testing data Accuracy:', metrics.accuracy_score(y_test,y_test_pred_class).round(2))"
   ]
  },
  {
   "cell_type": "markdown",
   "id": "d5a07370",
   "metadata": {},
   "source": [
    ">**Winning Model:**<br>\n",
    "We need to quickly decide which modeling framework to go forward with<br>\n",
    "To keep this simple - I'm going to use AUC and will choose the model that gives us the highest value"
   ]
  },
  {
   "cell_type": "code",
   "execution_count": 27,
   "id": "076c824a",
   "metadata": {},
   "outputs": [
    {
     "data": {
      "image/png": "[encoded data removed]",
      "text/plain": [
       "<Figure size 432x288 with 1 Axes>"
      ]
     },
     "metadata": {
      "needs_background": "light"
     },
     "output_type": "display_data"
    },
    {
     "data": {
      "image/png": "[encoded data removed]",
      "text/plain": [
       "<Figure size 432x288 with 1 Axes>"
      ]
     },
     "metadata": {
      "needs_background": "light"
     },
     "output_type": "display_data"
    }
   ],
   "source": [
    "# ROC curve for kNN\n",
    "metrics.plot_roc_curve(knn,X_test_norm,y_test)\n",
    "plt.show()\n",
    "\n",
    "# ROC curve for Logistic Model\n",
    "metrics.plot_roc_curve(lr_model,X_test_norm,y_test)\n",
    "plt.show()"
   ]
  },
  {
   "cell_type": "markdown",
   "id": "f4396e05",
   "metadata": {},
   "source": [
    ">### <span style=\"color:red\"><b>**Decision Point:**<br>\n",
    "**The winner is our Logistic Model!!!** This is because AUC is highest for our Logistic Model (0.68 vs 0.66) so I will use that model to further evaluate probability thresholds and corresponding performance measures"
   ]
  },
  {
   "cell_type": "code",
   "execution_count": 28,
   "id": "7c9473a5",
   "metadata": {},
   "outputs": [
    {
     "data": {
      "text/html": [
       "<div>\n",
       "<style scoped>\n",
       "    .dataframe tbody tr th:only-of-type {\n",
       "        vertical-align: middle;\n",
       "    }\n",
       "\n",
       "    .dataframe tbody tr th {\n",
       "        vertical-align: top;\n",
       "    }\n",
       "\n",
       "    .dataframe thead th {\n",
       "        text-align: right;\n",
       "    }\n",
       "</style>\n",
       "<table border=\"1\" class=\"dataframe\">\n",
       "  <thead>\n",
       "    <tr style=\"text-align: right;\">\n",
       "      <th></th>\n",
       "      <th>threshold</th>\n",
       "      <th>TP</th>\n",
       "      <th>TN</th>\n",
       "      <th>FP</th>\n",
       "      <th>FN</th>\n",
       "      <th>Precision</th>\n",
       "      <th>Recall</th>\n",
       "      <th>Accuracy</th>\n",
       "      <th>MSE</th>\n",
       "    </tr>\n",
       "  </thead>\n",
       "  <tbody>\n",
       "    <tr>\n",
       "      <th>0</th>\n",
       "      <td>0.00</td>\n",
       "      <td>118</td>\n",
       "      <td>0</td>\n",
       "      <td>543</td>\n",
       "      <td>0</td>\n",
       "      <td>0.18</td>\n",
       "      <td>1.00</td>\n",
       "      <td>0.18</td>\n",
       "      <td>0.82</td>\n",
       "    </tr>\n",
       "    <tr>\n",
       "      <th>1</th>\n",
       "      <td>0.10</td>\n",
       "      <td>103</td>\n",
       "      <td>148</td>\n",
       "      <td>395</td>\n",
       "      <td>15</td>\n",
       "      <td>0.21</td>\n",
       "      <td>0.87</td>\n",
       "      <td>0.38</td>\n",
       "      <td>0.62</td>\n",
       "    </tr>\n",
       "    <tr>\n",
       "      <th>2</th>\n",
       "      <td>0.20</td>\n",
       "      <td>77</td>\n",
       "      <td>326</td>\n",
       "      <td>217</td>\n",
       "      <td>41</td>\n",
       "      <td>0.26</td>\n",
       "      <td>0.65</td>\n",
       "      <td>0.61</td>\n",
       "      <td>0.39</td>\n",
       "    </tr>\n",
       "    <tr>\n",
       "      <th>3</th>\n",
       "      <td>0.30</td>\n",
       "      <td>37</td>\n",
       "      <td>483</td>\n",
       "      <td>60</td>\n",
       "      <td>81</td>\n",
       "      <td>0.38</td>\n",
       "      <td>0.31</td>\n",
       "      <td>0.79</td>\n",
       "      <td>0.21</td>\n",
       "    </tr>\n",
       "    <tr>\n",
       "      <th>4</th>\n",
       "      <td>0.40</td>\n",
       "      <td>17</td>\n",
       "      <td>532</td>\n",
       "      <td>11</td>\n",
       "      <td>101</td>\n",
       "      <td>0.61</td>\n",
       "      <td>0.14</td>\n",
       "      <td>0.83</td>\n",
       "      <td>0.17</td>\n",
       "    </tr>\n",
       "    <tr>\n",
       "      <th>5</th>\n",
       "      <td>0.50</td>\n",
       "      <td>7</td>\n",
       "      <td>542</td>\n",
       "      <td>1</td>\n",
       "      <td>111</td>\n",
       "      <td>0.88</td>\n",
       "      <td>0.06</td>\n",
       "      <td>0.83</td>\n",
       "      <td>0.17</td>\n",
       "    </tr>\n",
       "    <tr>\n",
       "      <th>6</th>\n",
       "      <td>0.60</td>\n",
       "      <td>7</td>\n",
       "      <td>543</td>\n",
       "      <td>0</td>\n",
       "      <td>111</td>\n",
       "      <td>1.00</td>\n",
       "      <td>0.06</td>\n",
       "      <td>0.83</td>\n",
       "      <td>0.17</td>\n",
       "    </tr>\n",
       "    <tr>\n",
       "      <th>7</th>\n",
       "      <td>0.70</td>\n",
       "      <td>7</td>\n",
       "      <td>543</td>\n",
       "      <td>0</td>\n",
       "      <td>111</td>\n",
       "      <td>1.00</td>\n",
       "      <td>0.06</td>\n",
       "      <td>0.83</td>\n",
       "      <td>0.17</td>\n",
       "    </tr>\n",
       "    <tr>\n",
       "      <th>8</th>\n",
       "      <td>0.80</td>\n",
       "      <td>7</td>\n",
       "      <td>543</td>\n",
       "      <td>0</td>\n",
       "      <td>111</td>\n",
       "      <td>1.00</td>\n",
       "      <td>0.06</td>\n",
       "      <td>0.83</td>\n",
       "      <td>0.17</td>\n",
       "    </tr>\n",
       "    <tr>\n",
       "      <th>9</th>\n",
       "      <td>0.90</td>\n",
       "      <td>7</td>\n",
       "      <td>543</td>\n",
       "      <td>0</td>\n",
       "      <td>111</td>\n",
       "      <td>1.00</td>\n",
       "      <td>0.06</td>\n",
       "      <td>0.83</td>\n",
       "      <td>0.17</td>\n",
       "    </tr>\n",
       "    <tr>\n",
       "      <th>10</th>\n",
       "      <td>1.00</td>\n",
       "      <td>0</td>\n",
       "      <td>543</td>\n",
       "      <td>0</td>\n",
       "      <td>118</td>\n",
       "      <td>0.00</td>\n",
       "      <td>0.00</td>\n",
       "      <td>0.82</td>\n",
       "      <td>0.18</td>\n",
       "    </tr>\n",
       "  </tbody>\n",
       "</table>\n",
       "</div>"
      ],
      "text/plain": [
       "    threshold   TP   TN   FP   FN  Precision  Recall  Accuracy  MSE\n",
       "0        0.00  118    0  543    0       0.18    1.00      0.18 0.82\n",
       "1        0.10  103  148  395   15       0.21    0.87      0.38 0.62\n",
       "2        0.20   77  326  217   41       0.26    0.65      0.61 0.39\n",
       "3        0.30   37  483   60   81       0.38    0.31      0.79 0.21\n",
       "4        0.40   17  532   11  101       0.61    0.14      0.83 0.17\n",
       "5        0.50    7  542    1  111       0.88    0.06      0.83 0.17\n",
       "6        0.60    7  543    0  111       1.00    0.06      0.83 0.17\n",
       "7        0.70    7  543    0  111       1.00    0.06      0.83 0.17\n",
       "8        0.80    7  543    0  111       1.00    0.06      0.83 0.17\n",
       "9        0.90    7  543    0  111       1.00    0.06      0.83 0.17\n",
       "10       1.00    0  543    0  118       0.00    0.00      0.82 0.18"
      ]
     },
     "execution_count": 28,
     "metadata": {},
     "output_type": "execute_result"
    }
   ],
   "source": [
    "class_perf_measures(lr_model,X_test_norm,y_test)"
   ]
  },
  {
   "cell_type": "markdown",
   "id": "2ed97546",
   "metadata": {},
   "source": [
    "**Roughly interpretation** <br>\n",
    "FP= predicted yes while actual no ==> predicted that the flight delayed while actually the flight is on time <br>\n",
    "FN= predicted no while actual yes ==> predicted that the flight is not delayed while actually the flight is delayed"
   ]
  },
  {
   "cell_type": "markdown",
   "id": "d2f5526c",
   "metadata": {},
   "source": [
    "## <span style=\"color:red\"><b> **NOTE:**</span> \n",
    "> For this particular case, in my opinion, The costliest that it can be is on \n",
    "<span style=\"color:red\"><b> **the False Positive (FP)** </span>side. This is because if we give out wrong prediction that the flight is delayed when the flight is actually on time, the airline will suffer from the loss of revenue, credit and waste of operation cost. The loss of revenue and credit happen due to the fact that unlike the delayed flight, if the flight is on time and nobody know, people will not going to show up and they will definitely miss the their flights which is bad since they will have to wait for the next available flight instead. With that amount of time, all of their plans are doomed. This will discredit the airline reputation as it is unacceptable acts that they tell passenger who can be on a plane and attend their important events to wait and later on telling them that the flight has already take off. All passengers will get angry and there will be back lash to the airline. It is a negative impact that will continue to cause damage in a long run. The airline will lose their royal customers and need to booste their confidence by spending more money in subsidy and promotion. The waste of operation cost is far more worse because if there is no passengers show up to the gate but the plane is already in the stage of ready to take off. This means that the engine has already started, the cabin crews are already prepared to be on a flight and by that, there will cause lots of both oppotunity cost and money spending. All of these examples are the reasons why I personally think that the costliest of mistake is on the FP side.        \n",
    "    \n",
    "    \n",
    ">However, on <span style=\"color:red\"><b>  **the False Negative (FN)** </span> side. There are business costs from this mistake happenning as well. For example, in terms of a customer impact (people like us), to already prepare for the trip and later learn about the delay is not only creating frustration from all the time that was wasted, but also affecting the original plan that was made prior to the delay (either working or family business). In terms of airline partnership impact, this wrong prediction will mess up flight schedule and cause the loss of sub-sequent flight. This will increase the operation cost as the airline may have to offer some subsidary for passenger in form of discount or a hotel to stay while waiting for the next available flight to come. Moreover, a cost might come in a form of over time to pay for cabin crews to be ready to fly the next round if that is the case. "
   ]
  },
  {
   "cell_type": "markdown",
   "id": "ca6bc0cb",
   "metadata": {},
   "source": [
    "## <span style=\"color:red\"><b>Decision:</span> \n",
    "    \n",
    "**1. Prob Threshold = 0.3**: \n",
    "   \n",
    "> Probabilitiy at 0.3 implies that a predicted probability must greater or equal than 30% for that record to be assigned as a delayed flight.\n",
    "    \n",
    "> This threshold is interesting to pick as the accuracy is almost the 3rd highest (79%) and the MSE is considered low (0.21)\n",
    "    \n",
    "- Threshold of 30% which required to predict positive outcomes, in this case 'positive' means 'delayed flight'. This threshold considers as relatively low so I expect many of positive outcome which DO make sense! as higher benchmark implies there are higher standard to select the positive outcome (=1) and vice versa. There are a lot of true positive compare to other thresholds' true positive or 37 to be exact in class performance measure table. <br>  \n",
    "    \n",
    "    \n",
    "- In this threshold, there are 60 of the False Positive (FP). This number represents the predicted records that the flight delayed while actually the flight is on time. The potential costs to the business if we were to make these mistakes in practice are that mentioned above. From what I understand, 38% of precision means that approximately 6 of every 10 flights in reality are missed by our model and that 6 labeled as delayed while infact, it is not. The loss of revenue, credit and waste of operation cost will be high enough to make the airline carefully takes this mistake into account and find a way to prevent it from happening. \n",
    "    \n",
    "    \n",
    "- In this threshold, there are 81 of the False Negative (FN). This number represents the predicted records that the flight is not delayed while actually the flight is delayed. From what I understand, 31% of recall means that approximately 7 of every 10 flights in reality are missed by our model and that 7 labeled as not delayed. The potential costs to the business if we were to make these mistakes in practice are that mentioned above as well. Both customer and airline partnership impacts will be what need to take in to consideration and find a way if possible to avoid this kind of mistake. \n",
    "    \n",
    "    \n",
    "- And as stated above, I personally think that the costliest side is on the False Positive (FP) as its impact is pretty savage and will cause both bad experiences, reputation and unnecessary costs way more than the other side of the False Negative (FN).\n",
    "    Therefore, I think I will not stick on this threshold as there are other thresholds that I can use as a benchmarks and will cost lower as there a less number of FP than this 30% threshold. I will move on to the next threshold instead. \n"
   ]
  },
  {
   "cell_type": "markdown",
   "id": "66bfa25a",
   "metadata": {},
   "source": [
    "###### **2. Prob Threshold = 0.4**<br>\n",
    "\n",
    "> Probabilitiy at 0.4 implies that a predicted probability must greater or equal than 40% for that record to be assigned as a delayed flight.\n",
    "    \n",
    "> This threshold is interesting to pick as the accuracy is almost the highest (83%) and the MSE is the lowest (0.17).\n",
    "    \n",
    "- Threshold of 40% which required to predict positive outcomes, in this case 'positive' means 'delayed flight'. This threshold almost half way so I expect not too low amount of positive outcome which DO make sense! as higher benchmark implies there are higher standard to select the positive outcome (=1) and vice versa. From other thresholds, there are 0 and 7 of the positive result so, to have 17 in delayed outcome to be exact I consider that it is not that low. <br>  \n",
    "    \n",
    "    \n",
    "- In this threshold, there are 11 of the False Positive (FP). This number represents the predicted records that the flight delayed while actually the flight is on time. The potential costs to the business if we were to make these mistakes in practice are that mentioned above. From what I understand, 61% of precision means that approximately 4 of every 10 flights in reality are missed by our model and that 4 labeled as delayed while infact, it is not. The loss of revenue, credit and waste of operation cost will be high enough to make the airline carefully takes this mistake into account and find a way to prevent it from happening. \n",
    "\n",
    "    \n",
    "- In this threshold, there are 101 of the False Negative (FN). This number represents the predicted records that the flight is not delayed while actually the flight is delayed. From what I understand, 14% of recall means that approximately 9 of every 10 flights in reality are missed by our model and that 9 labeled as not delayed (almost all of the records is mistakenly assume!). The potential costs to the business if we were to make these mistakes in practice are that mentioned above. Both customer and airline partnership impacts will be what need to take in to consideration and find a way if possible to avoid this kind of mistake. \n",
    "    \n",
    "    \n",
    "- And as stated above, I personally think that the costliest side is on the False Positive (FP) as its impact is pretty savange and will cause both bad experiences, reputation and unnecessary costs way more than the other side of the False Negative (FN).\n",
    "    Althought this threshold has less impact on FP side than the 30% threshold, I think I will not stick on this threshold as there are other thresholds that I can use as a benchmarks and will cost lower as there a less number of FP than this 40% threshold. Moreover, there are too many FN number that will do create cost to the business ( 9 out of then records are wrong!). Therefore, I will move on to the next threshold instead. \n"
   ]
  },
  {
   "cell_type": "markdown",
   "id": "8b7e0e00",
   "metadata": {},
   "source": [
    "**3. Prob Threshold = 0.6**\n",
    "Prob Threshold = 0.6 (same result as prob Threshold of 0.7 0.8, 0.9)**: \n",
    "   \n",
    "> Probabilitiy at 0.6 implies that a predicted probability must greater or equal than 60% for that record to be assigned as a delayed flight.\n",
    "    \n",
    "- Threshold of 60% which required to predict positive outcomes, in this case 'positive' means 'delayed flight'. This threshold considers as relatively high so I expect little of positive outcome which DO make sense! as higher benchmark implies there are higher standard to select the positive outcome (=1) and there are only few of true positive or 7 to be exact in class performance measure table.  <br>  \n",
    "\n",
    "\n",
    "- In this threshold, there are 0 of the False Positive (FP). This number represents the predicted records that the flight delayed while actually the flight is on time. The potential costs to the business if we were to make these mistakes in practice are that mentioned above. From what I understand, 100% of precision means that no flight is missed by our model and labeled as delayed. This means no mistaken on this side! and by that, there will be no busniess cost to pay so it is great! \n",
    "\n",
    "    \n",
    "- In this threshold, there are 111 of the False Negative (FN). This number represents the predicted records that the flight is not delayed while actually the flight is delayed. From what I understand, 6% of recall means that approximately 9 of every 10 flights in reality are missed by our model and that 9 labeled as not delayed (almost all of the records is mistakenly assume!). The potential costs to the business if we were to make these mistakes in practice are that mentioned above. Both customer and airline partnership impacts will be what need to take in to consideration and find a way if possible to avoid this kind of mistake. \n",
    "    \n",
    "I will stick on to this threshold of 60%.\n"
   ]
  },
  {
   "cell_type": "markdown",
   "id": "c68937e4",
   "metadata": {},
   "source": [
    "**4. Based on my careful consideration of probability threshold options and the corresponding speculated risks/costs - which probability threshold do I recommend going forward with?**\n",
    "\n",
    "- As stated above, I personally think that the costliest side is on the False Positive (FP) as its impact is pretty savage and will cause both bad experiences, reputation and unnecessary costs way more than the other side of the False Negative (FN).\n",
    "    This threshold has no impact on FP at all! On the other hand, there are lots of mistake on the False Negative side. As the matter of fact that in my opinion, the mistake on the FP side is easier to deal with as this issue tend to happen all the time. Thie airline can manage the situation and will get understanding from the passengers more than the FN mistake. Therefore, I will stick to this threshold of 60% and use it as a threshold to categorized which flight is delayed and which is not.\n"
   ]
  },
  {
   "cell_type": "markdown",
   "id": "ad256b1a",
   "metadata": {},
   "source": [
    ">[Go to Machine Learning Outline](#ml-model)\n",
    "---"
   ]
  },
  {
   "cell_type": "markdown",
   "id": "9f275071",
   "metadata": {},
   "source": [
    "# 5. Deployment of Model <a class=\"anchor\" id=\"model-deployment\"></a>\n",
    "\n",
    "I will deploy all the result I have got into a streamlit website which will help airline to be more convenient in knowing which flight will be delayed and which is not!  \n",
    "\n",
    "* [Go to Top](#table-of-content)"
   ]
  },
  {
   "cell_type": "markdown",
   "id": "c806e153",
   "metadata": {},
   "source": [
    "###  Future references use (if I want to deploy):\n",
    "**1. Create new object by using Pickle and name it 'classifier' and instantiate it with pickle_out. Name other parameters as whatever that suit the model the most (See all details by running the code first then click shift+tab).** \n",
    "\n",
    "  - Check whether in the same location, is there a file name 'classifer' appears in that location?\n",
    "\n",
    "**NOTE: we do not have to name it as 'classifier'**\n",
    "\n",
    "**2. Dump the building model into 'classifier' by using .dump()**\n",
    "  - For better understanding ==> [LINK](https://docs.python.org/3/library/pickle.html)\n",
    "  - .dump is different from .dumps so be careful!!!\n",
    "\n",
    "**3. Don't forget to pickle_out.close()** \n",
    "  - Question: Can we leave it open without closing? Answer: If for reading purpose, Yes but if for writing purpose, it can cause a missing data later. ==> stackoverflow!!! [LINK](https://stackoverflow.com/questions/66855334/why-cant-i-close-a-pickle-file#:~:text=Will%20it%20be%20a%20big%20deal%20if%20I,file%20open%20for%20writing%20could%20cause%20missing%20data.) <br>\n",
    "  \n",
    "**4. How to add Threshold**\n",
    "  - [LINK](https://www.timvink.nl/streamlit-threshold-app/)"
   ]
  },
  {
   "cell_type": "code",
   "execution_count": 29,
   "id": "7287d126",
   "metadata": {},
   "outputs": [],
   "source": [
    "pickle_out = open('classifier', mode='wb')             # I am creating a new object called pickle_out. This pickle_out \n",
    "                                                       # object will have a file name 'classifier'. This file will have \n",
    "                                                       # a mode of 'wb' which means I am writing to the file (w) in binary\n",
    "                                                       # mode (b).\n",
    "            \n",
    "pickle.dump(lr_model, pickle_out)                      # \".dump()\" is a method of dumping or putting data into the pickle \n",
    "                                                       # object that I created. In this case, I will dump my model which\n",
    "                                                       # is instantiate from the LogisticRegression model that I built and\n",
    "                                                       # check the accuracy out into the \"pickle_out\" object that I just \n",
    "                                                       # created above.\n",
    "                \n",
    "pickle_out.close()                                     # Use \".close()\" method after I have written my python into the \n",
    "                                                       # pickle_out object. "
   ]
  },
  {
   "cell_type": "markdown",
   "id": "516958ae",
   "metadata": {},
   "source": [
    "### <span style=\"color:red\"><b> NOTE: </b></span>\n",
    "As we are now focusing on finding a proper threshold to help eliminate cost of error as much as possible, I decided to add range of thresholds into streamlit. This will allow airlines to pick threshold by themselves. However, I will inform about the best threshold that I think will help hr to preserve their customers and lower their costs (60%). \n",
    "\n",
    "### Question of curiosity:\n",
    " - Can I show only the best threshold? \n",
    " \n",
    "### What I will try to do:\n",
    " - Not sure how I will create questions with dropdown answers, but I will try my best to do so."
   ]
  },
  {
   "cell_type": "code",
   "execution_count": 56,
   "id": "cf6db12c",
   "metadata": {},
   "outputs": [
    {
     "name": "stdout",
     "output_type": "stream",
     "text": [
      "Overwriting app.py\n"
     ]
    }
   ],
   "source": [
    "%%writefile app.py\n",
    "\n",
    "import pickle\n",
    "import streamlit as st\n",
    "\n",
    "# I decided to add threshold range to let the hr department pick which threshold they would rather \n",
    "# use to predict the outcome!\n",
    "st.title(\"Setting the threshold for our classifier\")\n",
    "threshold = st.slider(\"Threshold\", min_value=0.00, max_value=1.0, step=0.01, value=0.5)\n",
    "\n",
    "pickle_in = open('classifier', 'rb')\n",
    "classifier = pickle.load(pickle_in)\n",
    "\n",
    "@st.cache()\n",
    "\n",
    "# Define the function which will make the prediction using data\n",
    "# inputs from users\n",
    "def prediction(sch_dep_time, carrier_delta, carrier_us, carrier_envoy, carrier_continental, carrier_discovery,\n",
    "               carrier_other, dest_jfk, dest_ewr, dest_lga, distance, origin_dca, origin_iad, origin_bwi, bad_weather,\n",
    "               Monday, Tuesday, Wednesday, Thursday, Friday, Saturday, Sunday\n",
    "):\n",
    "    \n",
    "    # Make predictions\n",
    "    prediction = classifier.predict(\n",
    "        [[sch_dep_time, carrier_delta, carrier_us, carrier_envoy, carrier_continental, carrier_discovery,\n",
    "               carrier_other, dest_jfk, dest_ewr, dest_lga, distance, origin_dca, origin_iad, origin_bwi, bad_weather,\n",
    "               Monday, Tuesday, Wednesday, Thursday, Friday, Saturday, Sunday]])\n",
    "    \n",
    "    if prediction == 1:\n",
    "        pred = 'This flight will delay!'\n",
    "    else:\n",
    "        pred = 'This flight will not delay!'\n",
    "    return pred\n",
    "\n",
    "# This is the main function in which we define our webpage\n",
    "def main():\n",
    "    \n",
    "    # Create input fields\n",
    "    # Use time_input instead as this is a different data type\n",
    "    sch_dep_time = st.time_input(label= \"What is a scheduled departure time?\",\n",
    "                                 value=None, \n",
    "                                 key=None, \n",
    "                                 help=None, \n",
    "                                 on_change=None, \n",
    "                                 args=None,\n",
    "                                 kwargs=None, \n",
    "                                 disabled=False \n",
    "                                 )\n",
    "    \n",
    "    carrier = st.selectbox( 'What is the carrier?', \n",
    "                           ('delta', 'us', 'envoy', 'continental', 'discovery', 'other'))\n",
    "\n",
    "                          \n",
    "    destination = st.selectbox( 'What is the destination?', \n",
    "                           ('jfk', 'ewr', 'lga'))\n",
    "    \n",
    "    distance= st.number_input(\"How long is the distance?\",\n",
    "                                  min_value=150.0,\n",
    "                                  max_value=230.0,\n",
    "                                  value=212.0, # setting value that will show up in the website using mean value from the dataset\n",
    "                                  step=1.0,  # increment by 1\n",
    "                                 )\n",
    "    destination = st.selectbox( 'What is an originating flight?', \n",
    "                           ('dca', 'iad', 'bwi'))\n",
    "\n",
    "    bad_weather = st.number_input(\"How is the weather? (Bad= 1, Good= 0)\",\n",
    "                              min_value=0.0,\n",
    "                              max_value=1.0,\n",
    "                              value=0.0,\n",
    "                              step=1.0\n",
    "                             )\n",
    "    day = st.selectbox( 'What day is it?', \n",
    "                           ('Monday', 'Tuesday', 'Wednesday','Thursday', 'Friday', 'Saturday', 'Sunday'))\n",
    "    \n",
    "    result = \"\"\n",
    "    \n",
    "    # When 'Predict' is clicked, make the prediction and store it\n",
    "    if st.button(\"Predict\"):\n",
    "        result = prediction(sch_dep_time, carrier_delta, carrier_us, carrier_envoy, carrier_continental, carrier_discovery,\n",
    "               carrier_other, dest_jfk, dest_ewr, dest_lga, distance, origin_dca, origin_iad, origin_bwi, bad_weather,\n",
    "               Monday, Tuesday, Wednesday, Thursday, Friday, Saturday, Sunday)\n",
    "        st.success(result)\n",
    "        \n",
    "if __name__=='__main__':\n",
    "    main()\n",
    "    "
   ]
  },
  {
   "cell_type": "markdown",
   "id": "d1fb5088",
   "metadata": {},
   "source": [
    "### <span style=\"color:red\"><b> Result: </b></span>\n",
    "\n",
    "I can input all the answer in drop down as I want to. However, the fact that it is not encoder, the predicted result is not showing up. There is an error which I cannot find a way to resolve it. \n",
    "\n",
    "### <span style=\"color:red\"><b> Decision: </b></span>\n",
    "\n",
    "I will stick on to the basic streamlit which Dr.G implemented in the first assignment. This although having too many questions but atleast the prediction will show without any errors. "
   ]
  },
  {
   "cell_type": "code",
   "execution_count": null,
   "id": "d838364d",
   "metadata": {},
   "outputs": [],
   "source": [
    "%%writefile app.py\n",
    "\n",
    "import pickle\n",
    "import streamlit as st\n",
    "\n",
    "# I decided to add threshold range to let the hr department pick which threshold they would rather \n",
    "# use to predict the outcome!\n",
    "st.title(\"Setting the threshold for our classifier\")\n",
    "threshold = st.slider(\"Threshold\", min_value=0.00, max_value=1.0, step=0.01, value=0.5)\n",
    "\n",
    "pickle_in = open('classifier', 'rb')\n",
    "classifier = pickle.load(pickle_in)\n",
    "\n",
    "@st.cache()\n",
    "\n",
    "# Define the function which will make the prediction using data\n",
    "# inputs from users\n",
    "def prediction(sch_dep_time, carrier_delta, carrier_us, carrier_envoy, carrier_continental, carrier_discovery,\n",
    "               carrier_other, dest_jfk, dest_ewr, dest_lga, distance, origin_dca, origin_iad, origin_bwi, bad_weather,\n",
    "               Monday, Tuesday, Wednesday, Thursday, Friday, Saturday, Sunday):\n",
    "    \n",
    "    # Make predictions\n",
    "    prediction = classifier.predict(\n",
    "        [[sch_dep_time, carrier_delta, carrier_us, carrier_envoy, carrier_continental, carrier_discovery,\n",
    "               carrier_other, dest_jfk, dest_ewr, dest_lga, distance, origin_dca, origin_iad, origin_bwi, bad_weather,\n",
    "               Monday, Tuesday, Wednesday, Thursday, Friday, Saturday, Sunday]])\n",
    "    \n",
    "    if prediction == 1:\n",
    "        pred = 'This flight will delay!'\n",
    "    else:\n",
    "        pred = 'This flight will not delay!'\n",
    "    return pred\n",
    "\n",
    "# This is the main function in which we define our webpage\n",
    "def main():\n",
    "    \n",
    "    # Create input fields\n",
    "    # Use time_input instead as this is a different data type\n",
    "    sch_dep_time = st.time_input(label= \"What is a scheduled departure time?\",\n",
    "                                 value=None, \n",
    "                                 key=None, \n",
    "                                 help=None, \n",
    "                                 on_change=None, \n",
    "                                 args=None,\n",
    "                                 kwargs=None, \n",
    "                                 disabled=False \n",
    "                                 )\n",
    "    \n",
    "    delta = st.number_input(\"Is this delta airline? (Yes= 1, No= 0)\",\n",
    "                                  min_value=0.0,\n",
    "                                  max_value=1.0,\n",
    "                                  value=0.0,\n",
    "                                  step=1.0,\n",
    "                                 )\n",
    "    us = st.number_input(\"Is this us airline? (Yes= 1, No= 0)\",\n",
    "                              min_value=0.0,\n",
    "                              max_value=1.0,\n",
    "                              value=0.0,\n",
    "                              step=1.0\n",
    "                             )\n",
    "\n",
    "    envoy = st.number_input(\"Is this envoy airline? (Yes= 1, No= 0)\",\n",
    "                              min_value=0.0,\n",
    "                              max_value=1.0,\n",
    "                              value=0.0,\n",
    "                              step=1.0\n",
    "                             )\n",
    "    continental = st.number_input(\"Is this continental airline? (Yes= 1, No= 0)\",\n",
    "                              min_value=0.0,\n",
    "                              max_value=1.0,\n",
    "                              value=0.0,\n",
    "                              step=1.0\n",
    "                             )\n",
    "    discovery = st.number_input(\"Is this discovery airline? (Yes= 1, No= 0)\",\n",
    "                              min_value=0.0,\n",
    "                              max_value=1.0,\n",
    "                              value=0.0,\n",
    "                              step=1.0\n",
    "                             )\n",
    "    other_carrier = st.number_input(\"Is this other airlines? (Yes= 1, No= 0)\",\n",
    "                              min_value=0.0,\n",
    "                              max_value=1.0,\n",
    "                              value=0.0,\n",
    "                              step=1.0\n",
    "                             )\n",
    "    dest_jfk = st.number_input(\"Is the destination JFK? (Yes= 1, No= 0)\",\n",
    "                              min_value=0.0,\n",
    "                              max_value=1.0,\n",
    "                              value=0.0,\n",
    "                              step=1.0\n",
    "                             )\n",
    "    dest_ewr = st.number_input(\"Is the destination EWR? (Yes= 1, No= 0)\",\n",
    "                              min_value=0.0,\n",
    "                              max_value=1.0,\n",
    "                              value=0.0,\n",
    "                              step=1.0\n",
    "                             )  \n",
    "    dest_lga = st.number_input(\"Is the destination LGA? (Yes= 1, No= 0)\",\n",
    "                              min_value=0.0,\n",
    "                              max_value=1.0,\n",
    "                              value=0.0,\n",
    "                              step=1.0\n",
    "                             )  \n",
    "    \n",
    "    distance= st.number_input(\"How long is the distance?\",\n",
    "                                  min_value=150.0,\n",
    "                                  max_value=230.0,\n",
    "                                  value=212.0, # setting value that will show up in the website using mean value from the dataset\n",
    "                                  step=1.0,  # increment by 1\n",
    "                              \n",
    "    origin_dca = st.number_input(\"Is the originating flight DCA? (Yes= 1, No= 0)\",\n",
    "                              min_value=0.0,\n",
    "                              max_value=1.0,\n",
    "                              value=0.0,\n",
    "                              step=1.0\n",
    "                             )    \n",
    "    origin_iad = st.number_input(\"Is the originating flight IAD? (Yes= 1, No= 0)\",\n",
    "                              min_value=0.0,\n",
    "                              max_value=1.0,\n",
    "                              value=0.0,\n",
    "                              step=1.0\n",
    "                             )           \n",
    "    origin_bwi = st.number_input(\"Is the originating flight BWI? (Yes= 1, No= 0)\",\n",
    "                              min_value=0.0,\n",
    "                              max_value=1.0,\n",
    "                              value=0.0,\n",
    "                              step=1.0\n",
    "                             )   \n",
    "    bad_weather = st.number_input(\"How is the weather? (Bad= 1, Good= 0)\",\n",
    "                              min_value=0.0,\n",
    "                              max_value=1.0,\n",
    "                              value=0.0,\n",
    "                              step=1.0\n",
    "                             )\n",
    "    monday = st.number_input(\"Is the flight day on Monday? (Yes= 1, No= 0)\",\n",
    "                              min_value=0.0,\n",
    "                              max_value=1.0,\n",
    "                              value=0.0,\n",
    "                              step=1.0\n",
    "                             )   \n",
    "    tuesday = st.number_input(\"Is the flight day on Tuesday? (Yes= 1, No= 0)\",\n",
    "                              min_value=0.0,\n",
    "                              max_value=1.0,\n",
    "                              value=0.0,\n",
    "                              step=1.0\n",
    "                             )  \n",
    "    wednesday = st.number_input(\"Is the flight day on Wednesday? (Yes= 1, No= 0)\",\n",
    "                              min_value=0.0,\n",
    "                              max_value=1.0,\n",
    "                              value=0.0,\n",
    "                              step=1.0\n",
    "                             )  \n",
    "    thursday = st.number_input(\"Is the flight day on Thursday? (Yes= 1, No= 0)\",\n",
    "                              min_value=0.0,\n",
    "                              max_value=1.0,\n",
    "                              value=0.0,\n",
    "                              step=1.0\n",
    "                             )  \n",
    "    friday = st.number_input(\"Is the flight day on Friday? (Yes= 1, No= 0)\",\n",
    "                              min_value=0.0,\n",
    "                              max_value=1.0,\n",
    "                              value=0.0,\n",
    "                              step=1.0\n",
    "                             )  \n",
    "    saturday = st.number_input(\"Is the flight day on Saturday? (Yes= 1, No= 0)\",\n",
    "                              min_value=0.0,\n",
    "                              max_value=1.0,\n",
    "                              value=0.0,\n",
    "                              step=1.0\n",
    "                             )  \n",
    "    sunday = st.number_input(\"Is the flight day on Sunday? (Yes= 1, No= 0)\",\n",
    "                              min_value=0.0,\n",
    "                              max_value=1.0,\n",
    "                              value=0.0,\n",
    "                              step=1.0\n",
    "                             )  \n",
    "    result = \"\"\n",
    "    \n",
    "    # When 'Predict' is clicked, make the prediction and store it\n",
    "    if st.button(\"Predict\"):\n",
    "        result = prediction(sch_dep_time, carrier_delta, carrier_us, carrier_envoy, carrier_continental, carrier_discovery,\n",
    "               carrier_other, dest_jfk, dest_ewr, dest_lga, distance, origin_dca, origin_iad, origin_bwi, bad_weather,\n",
    "               Monday, Tuesday, Wednesday, Thursday, Friday, Saturday, Sunday)\n",
    "        st.success(result)\n",
    "        \n",
    "if __name__=='__main__':\n",
    "    main()\n",
    "    "
   ]
  },
  {
   "cell_type": "markdown",
   "id": "5d5d023c",
   "metadata": {},
   "source": [
    "## <span style=\"color:orange\"><b> Checking final result</span>\n",
    "### Try using it by myself first to check how smooth the process is. Check for the error such as words or mathematical typo!</b>"
   ]
  },
  {
   "cell_type": "code",
   "execution_count": 57,
   "id": "76004bc0",
   "metadata": {},
   "outputs": [
    {
     "name": "stdout",
     "output_type": "stream",
     "text": [
      "^C\n"
     ]
    }
   ],
   "source": [
    "!streamlit run app.py"
   ]
  }
 ],
 "metadata": {
  "kernelspec": {
   "display_name": "Python 3 (ipykernel)",
   "language": "python",
   "name": "python3"
  },
  "language_info": {
   "codemirror_mode": {
    "name": "ipython",
    "version": 3
   },
   "file_extension": ".py",
   "mimetype": "text/x-python",
   "name": "python",
   "nbconvert_exporter": "python",
   "pygments_lexer": "ipython3",
   "version": "3.10.9"
  }
 },
 "nbformat": 4,
 "nbformat_minor": 5
}
